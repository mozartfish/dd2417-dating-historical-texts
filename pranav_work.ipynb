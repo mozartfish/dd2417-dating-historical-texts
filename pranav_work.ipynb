{
  "nbformat": 4,
  "nbformat_minor": 0,
  "metadata": {
    "colab": {
      "provenance": []
    },
    "kernelspec": {
      "name": "python3",
      "display_name": "Python 3"
    },
    "language_info": {
      "name": "python"
    }
  },
  "cells": [
    {
      "cell_type": "markdown",
      "source": [
        "## Project Setup"
      ],
      "metadata": {
        "id": "vOIGg66hA-Q4"
      }
    },
    {
      "cell_type": "code",
      "execution_count": 1,
      "metadata": {
        "colab": {
          "base_uri": "https://localhost:8080/"
        },
        "id": "ndMXbk2SAX8M",
        "outputId": "bdafd657-ddf8-49c7-94bd-398ea1dae044"
      },
      "outputs": [
        {
          "output_type": "stream",
          "name": "stdout",
          "text": [
            "fatal: destination path 'dd2417-dating-historical-texts' already exists and is not an empty directory.\n"
          ]
        }
      ],
      "source": [
        "!git clone https://github.com/mozartfish/dd2417-dating-historical-texts.git"
      ]
    },
    {
      "cell_type": "code",
      "source": [
        "import os\n",
        "raw_dataset_path = './dd2417-dating-historical-texts/Datasets/raw_data/'\n",
        "print(os.listdir('./dd2417-dating-historical-texts/'))"
      ],
      "metadata": {
        "colab": {
          "base_uri": "https://localhost:8080/"
        },
        "id": "b5DFu9iDAuPo",
        "outputId": "6ef8adeb-fb58-4569-e33e-cf3c29cf9e79"
      },
      "execution_count": 2,
      "outputs": [
        {
          "output_type": "stream",
          "name": "stdout",
          "text": [
            "['Datasets', '.gitignore', '.git', 'README.md']\n"
          ]
        }
      ]
    },
    {
      "cell_type": "code",
      "source": [
        "!ls -la dd2417-dating-historical-texts/Datasets/raw_data/"
      ],
      "metadata": {
        "colab": {
          "base_uri": "https://localhost:8080/"
        },
        "id": "RvowzLADBXUu",
        "outputId": "cdbc591b-b487-4441-9948-b0bec59de088"
      },
      "execution_count": 3,
      "outputs": [
        {
          "output_type": "stream",
          "name": "stdout",
          "text": [
            "total 88\n",
            "drwxr-xr-x 22 root root 4096 May 26 13:03 .\n",
            "drwxr-xr-x  4 root root 4096 May 26 13:03 ..\n",
            "drwxr-xr-x  2 root root 4096 May 26 13:03 1700\n",
            "drwxr-xr-x  2 root root 4096 May 26 13:03 1710\n",
            "drwxr-xr-x  2 root root 4096 May 26 13:03 1720\n",
            "drwxr-xr-x  2 root root 4096 May 26 13:03 1730\n",
            "drwxr-xr-x  2 root root 4096 May 26 13:03 1740\n",
            "drwxr-xr-x  2 root root 4096 May 26 13:03 1750\n",
            "drwxr-xr-x  2 root root 4096 May 26 13:03 1760\n",
            "drwxr-xr-x  2 root root 4096 May 26 13:03 1770\n",
            "drwxr-xr-x  2 root root 4096 May 26 13:03 1780\n",
            "drwxr-xr-x  2 root root 4096 May 26 13:03 1790\n",
            "drwxr-xr-x  2 root root 4096 May 26 13:03 1800\n",
            "drwxr-xr-x  2 root root 4096 May 26 13:03 1810\n",
            "drwxr-xr-x  2 root root 4096 May 26 13:03 1820\n",
            "drwxr-xr-x  2 root root 4096 May 26 13:03 1830\n",
            "drwxr-xr-x  2 root root 4096 May 26 13:03 1840\n",
            "drwxr-xr-x  2 root root 4096 May 26 13:03 1850\n",
            "drwxr-xr-x  2 root root 4096 May 26 13:03 1860\n",
            "drwxr-xr-x  2 root root 4096 May 26 13:03 1870\n",
            "drwxr-xr-x  2 root root 4096 May 26 13:03 1880\n",
            "drwxr-xr-x  2 root root 4096 May 26 13:03 1890\n"
          ]
        }
      ]
    },
    {
      "cell_type": "markdown",
      "source": [
        "## Data Preprocessing"
      ],
      "metadata": {
        "id": "aWAFQy4dQ3UZ"
      }
    },
    {
      "cell_type": "code",
      "source": [
        "# create new directory to store cleaned texts\n",
        "directory='./dd2417-dating-historical-texts/Datasets/cleaned_data'\n",
        "if not os.path.exists(directory):\n",
        "  os.makedirs('dd2417-dating-historical-texts/Datasets/cleaned_data')"
      ],
      "metadata": {
        "id": "4-hqf0O7WJO8"
      },
      "execution_count": 4,
      "outputs": []
    },
    {
      "cell_type": "code",
      "source": [
        "def clean_text(text):\n",
        "  # remove everything before start\n",
        "  start_match = re.search(r'\\*\\*\\* START OF.*?\\*\\*\\*', text, re.IGNORECASE | re.DOTALL)\n",
        "  if start_match:\n",
        "    text = text[start_match.end():]\n",
        "\n",
        "  # remove everything after end\n",
        "  end_match = re.search(r'\\*\\*\\* END OF.*?\\*\\*\\*', text, re.IGNORECASE | re.DOTALL)\n",
        "  if end_match:\n",
        "    text = text[:end_match.start()]\n",
        "\n",
        "  # remove years 1000's\n",
        "  text = re.sub(r'\\b1[0-9]{3}\\b', '', text)\n",
        "\n",
        "  # remove whitespace\n",
        "  text = re.sub(r'\\s+', ' ', text)\n",
        "\n",
        "  return text.strip()\n"
      ],
      "metadata": {
        "id": "p4Yfk2ccccvO"
      },
      "execution_count": 5,
      "outputs": []
    },
    {
      "cell_type": "code",
      "source": [
        "years = [1700, 1710, 1720, 1730, 1740, 1750, 1760, 1770, 1780, 1790]"
      ],
      "metadata": {
        "id": "QfgAeIKRCvJ9"
      },
      "execution_count": 6,
      "outputs": []
    },
    {
      "cell_type": "code",
      "source": [
        "import re\n",
        "import string\n",
        "\n",
        "def preprocess_text(dataset_path, year):\n",
        "  print(f\"preprocess text\")\n",
        "  print(f\"directory year: {year}\")\n",
        "  decade_path = dataset_path + str(year) + \"/\"\n",
        "  cleaned_data_path = f'./dd2417-dating-historical-texts/Datasets/cleaned_data/{year}/'\n",
        "  if not os.path.exists(cleaned_data_path):\n",
        "    os.makedirs(cleaned_data_path)\n",
        "  # process and clean each text file\n",
        "  text_list = os.listdir(decade_path)\n",
        "  for file in text_list:\n",
        "    if file.endswith('.txt'):\n",
        "      print(f\"file name: {file}\")\n",
        "\n",
        "      # read file\n",
        "      with open(decade_path + file, 'r', encoding='utf-8') as f:\n",
        "        raw_text = f.read()\n",
        "\n",
        "      cleaned_text = clean_text(raw_text)\n",
        "\n",
        "      # save file\n",
        "      out_file = cleaned_data_path + file\n",
        "      with open(out_file, 'w', encoding='utf-8') as f:\n",
        "        f.write(cleaned_text)\n",
        "        print(f\"cleaned text and save to -> {out_file}\")\n",
        "        print()"
      ],
      "metadata": {
        "id": "P7ODFyXNQzzV"
      },
      "execution_count": 7,
      "outputs": []
    },
    {
      "cell_type": "markdown",
      "source": [
        "### 1700's Texts"
      ],
      "metadata": {
        "id": "VVSwMCyJRaaL"
      }
    },
    {
      "cell_type": "code",
      "source": [
        "years = [1700, 1710, 1720, 1730, 1740, 1750, 1760, 1770, 1780, 1790]\n",
        "# test_year = years[0]\n",
        "# preprocess_text(raw_dataset_path, test_year)\n",
        "for year in years:\n",
        "  preprocess_text(raw_dataset_path, year)\n"
      ],
      "metadata": {
        "colab": {
          "base_uri": "https://localhost:8080/"
        },
        "id": "c72cV1wjRkol",
        "outputId": "943a30b4-e13c-4f4b-c160-897c85a2e471"
      },
      "execution_count": 8,
      "outputs": [
        {
          "output_type": "stream",
          "name": "stdout",
          "text": [
            "preprocess text\n",
            "directory year: 1700\n",
            "file name: 1700_5.txt\n",
            "cleaned text and save to -> ./dd2417-dating-historical-texts/Datasets/cleaned_data/1700/1700_5.txt\n",
            "\n",
            "file name: 1700_3.txt\n",
            "cleaned text and save to -> ./dd2417-dating-historical-texts/Datasets/cleaned_data/1700/1700_3.txt\n",
            "\n",
            "file name: 1700_1.txt\n",
            "cleaned text and save to -> ./dd2417-dating-historical-texts/Datasets/cleaned_data/1700/1700_1.txt\n",
            "\n",
            "file name: 1700_2.txt\n",
            "cleaned text and save to -> ./dd2417-dating-historical-texts/Datasets/cleaned_data/1700/1700_2.txt\n",
            "\n",
            "file name: 1700_4.txt\n",
            "cleaned text and save to -> ./dd2417-dating-historical-texts/Datasets/cleaned_data/1700/1700_4.txt\n",
            "\n",
            "preprocess text\n",
            "directory year: 1710\n",
            "file name: 1710_3.txt\n",
            "cleaned text and save to -> ./dd2417-dating-historical-texts/Datasets/cleaned_data/1710/1710_3.txt\n",
            "\n",
            "file name: 1710_5.txt\n",
            "cleaned text and save to -> ./dd2417-dating-historical-texts/Datasets/cleaned_data/1710/1710_5.txt\n",
            "\n",
            "file name: 1710_1.txt\n",
            "cleaned text and save to -> ./dd2417-dating-historical-texts/Datasets/cleaned_data/1710/1710_1.txt\n",
            "\n",
            "file name: 1710_2.txt\n",
            "cleaned text and save to -> ./dd2417-dating-historical-texts/Datasets/cleaned_data/1710/1710_2.txt\n",
            "\n",
            "file name: 1710_4.txt\n",
            "cleaned text and save to -> ./dd2417-dating-historical-texts/Datasets/cleaned_data/1710/1710_4.txt\n",
            "\n",
            "preprocess text\n",
            "directory year: 1720\n",
            "file name: 1720_3.txt\n",
            "cleaned text and save to -> ./dd2417-dating-historical-texts/Datasets/cleaned_data/1720/1720_3.txt\n",
            "\n",
            "file name: 1720_1.txt\n",
            "cleaned text and save to -> ./dd2417-dating-historical-texts/Datasets/cleaned_data/1720/1720_1.txt\n",
            "\n",
            "file name: 1720_2.txt\n",
            "cleaned text and save to -> ./dd2417-dating-historical-texts/Datasets/cleaned_data/1720/1720_2.txt\n",
            "\n",
            "file name: 1720_4.txt\n",
            "cleaned text and save to -> ./dd2417-dating-historical-texts/Datasets/cleaned_data/1720/1720_4.txt\n",
            "\n",
            "preprocess text\n",
            "directory year: 1730\n",
            "file name: 1730_4.txt\n",
            "cleaned text and save to -> ./dd2417-dating-historical-texts/Datasets/cleaned_data/1730/1730_4.txt\n",
            "\n",
            "file name: 1730_1.txt\n",
            "cleaned text and save to -> ./dd2417-dating-historical-texts/Datasets/cleaned_data/1730/1730_1.txt\n",
            "\n",
            "file name: 1730_3.txt\n",
            "cleaned text and save to -> ./dd2417-dating-historical-texts/Datasets/cleaned_data/1730/1730_3.txt\n",
            "\n",
            "file name: 1730_2.txt\n",
            "cleaned text and save to -> ./dd2417-dating-historical-texts/Datasets/cleaned_data/1730/1730_2.txt\n",
            "\n",
            "preprocess text\n",
            "directory year: 1740\n",
            "file name: 1740_3.txt\n",
            "cleaned text and save to -> ./dd2417-dating-historical-texts/Datasets/cleaned_data/1740/1740_3.txt\n",
            "\n",
            "file name: 1740_5.txt\n",
            "cleaned text and save to -> ./dd2417-dating-historical-texts/Datasets/cleaned_data/1740/1740_5.txt\n",
            "\n",
            "file name: 1740_4.txt\n",
            "cleaned text and save to -> ./dd2417-dating-historical-texts/Datasets/cleaned_data/1740/1740_4.txt\n",
            "\n",
            "file name: 1740_1.txt\n",
            "cleaned text and save to -> ./dd2417-dating-historical-texts/Datasets/cleaned_data/1740/1740_1.txt\n",
            "\n",
            "file name: 1740_2.txt\n",
            "cleaned text and save to -> ./dd2417-dating-historical-texts/Datasets/cleaned_data/1740/1740_2.txt\n",
            "\n",
            "preprocess text\n",
            "directory year: 1750\n",
            "file name: 1750_1.txt\n",
            "cleaned text and save to -> ./dd2417-dating-historical-texts/Datasets/cleaned_data/1750/1750_1.txt\n",
            "\n",
            "file name: 1750_3.txt\n",
            "cleaned text and save to -> ./dd2417-dating-historical-texts/Datasets/cleaned_data/1750/1750_3.txt\n",
            "\n",
            "file name: 1750_2.txt\n",
            "cleaned text and save to -> ./dd2417-dating-historical-texts/Datasets/cleaned_data/1750/1750_2.txt\n",
            "\n",
            "file name: 1750_4.txt\n",
            "cleaned text and save to -> ./dd2417-dating-historical-texts/Datasets/cleaned_data/1750/1750_4.txt\n",
            "\n",
            "file name: 1750_5.txt\n",
            "cleaned text and save to -> ./dd2417-dating-historical-texts/Datasets/cleaned_data/1750/1750_5.txt\n",
            "\n",
            "preprocess text\n",
            "directory year: 1760\n",
            "file name: 1760_3.txt\n",
            "cleaned text and save to -> ./dd2417-dating-historical-texts/Datasets/cleaned_data/1760/1760_3.txt\n",
            "\n",
            "file name: 1760_5.txt\n",
            "cleaned text and save to -> ./dd2417-dating-historical-texts/Datasets/cleaned_data/1760/1760_5.txt\n",
            "\n",
            "file name: 1760_4.txt\n",
            "cleaned text and save to -> ./dd2417-dating-historical-texts/Datasets/cleaned_data/1760/1760_4.txt\n",
            "\n",
            "file name: 1760_1.txt\n",
            "cleaned text and save to -> ./dd2417-dating-historical-texts/Datasets/cleaned_data/1760/1760_1.txt\n",
            "\n",
            "file name: 1760_2.txt\n",
            "cleaned text and save to -> ./dd2417-dating-historical-texts/Datasets/cleaned_data/1760/1760_2.txt\n",
            "\n",
            "preprocess text\n",
            "directory year: 1770\n",
            "file name: 1770_5.txt\n",
            "cleaned text and save to -> ./dd2417-dating-historical-texts/Datasets/cleaned_data/1770/1770_5.txt\n",
            "\n",
            "file name: 1770_2.txt\n",
            "cleaned text and save to -> ./dd2417-dating-historical-texts/Datasets/cleaned_data/1770/1770_2.txt\n",
            "\n",
            "file name: 1770_4.txt\n",
            "cleaned text and save to -> ./dd2417-dating-historical-texts/Datasets/cleaned_data/1770/1770_4.txt\n",
            "\n",
            "file name: 1770_3.txt\n",
            "cleaned text and save to -> ./dd2417-dating-historical-texts/Datasets/cleaned_data/1770/1770_3.txt\n",
            "\n",
            "file name: 1770_1.txt\n",
            "cleaned text and save to -> ./dd2417-dating-historical-texts/Datasets/cleaned_data/1770/1770_1.txt\n",
            "\n",
            "preprocess text\n",
            "directory year: 1780\n",
            "file name: 1780_1.txt\n",
            "cleaned text and save to -> ./dd2417-dating-historical-texts/Datasets/cleaned_data/1780/1780_1.txt\n",
            "\n",
            "file name: 1780_2.txt\n",
            "cleaned text and save to -> ./dd2417-dating-historical-texts/Datasets/cleaned_data/1780/1780_2.txt\n",
            "\n",
            "file name: 1780_5.txt\n",
            "cleaned text and save to -> ./dd2417-dating-historical-texts/Datasets/cleaned_data/1780/1780_5.txt\n",
            "\n",
            "file name: 1780_4.txt\n",
            "cleaned text and save to -> ./dd2417-dating-historical-texts/Datasets/cleaned_data/1780/1780_4.txt\n",
            "\n",
            "file name: 1780_3.txt\n",
            "cleaned text and save to -> ./dd2417-dating-historical-texts/Datasets/cleaned_data/1780/1780_3.txt\n",
            "\n",
            "preprocess text\n",
            "directory year: 1790\n",
            "file name: 1790_3.txt\n",
            "cleaned text and save to -> ./dd2417-dating-historical-texts/Datasets/cleaned_data/1790/1790_3.txt\n",
            "\n",
            "file name: 1790_4.txt\n",
            "cleaned text and save to -> ./dd2417-dating-historical-texts/Datasets/cleaned_data/1790/1790_4.txt\n",
            "\n",
            "file name: 1790_1.txt\n",
            "cleaned text and save to -> ./dd2417-dating-historical-texts/Datasets/cleaned_data/1790/1790_1.txt\n",
            "\n",
            "file name: 1790_2.txt\n",
            "cleaned text and save to -> ./dd2417-dating-historical-texts/Datasets/cleaned_data/1790/1790_2.txt\n",
            "\n"
          ]
        }
      ]
    },
    {
      "cell_type": "markdown",
      "source": [
        "### 1800's Texts"
      ],
      "metadata": {
        "id": "gEC4ZyJfReAH"
      }
    },
    {
      "cell_type": "code",
      "source": [
        "years = [1800, 1810, 1820, 1830, 1840, 1850, 1860, 1870, 1880, 1890]\n",
        "for year in years:\n",
        "  preprocess_text(raw_dataset_path, year)"
      ],
      "metadata": {
        "colab": {
          "base_uri": "https://localhost:8080/"
        },
        "id": "GLJmyIAyRdBF",
        "outputId": "ec4ca570-c629-498e-d07a-2f587bdf5418"
      },
      "execution_count": 9,
      "outputs": [
        {
          "output_type": "stream",
          "name": "stdout",
          "text": [
            "preprocess text\n",
            "directory year: 1800\n",
            "file name: 1800_5.txt\n",
            "cleaned text and save to -> ./dd2417-dating-historical-texts/Datasets/cleaned_data/1800/1800_5.txt\n",
            "\n",
            "file name: 1800_3.txt\n",
            "cleaned text and save to -> ./dd2417-dating-historical-texts/Datasets/cleaned_data/1800/1800_3.txt\n",
            "\n",
            "file name: 1800_2.txt\n",
            "cleaned text and save to -> ./dd2417-dating-historical-texts/Datasets/cleaned_data/1800/1800_2.txt\n",
            "\n",
            "file name: 1800_4.txt\n",
            "cleaned text and save to -> ./dd2417-dating-historical-texts/Datasets/cleaned_data/1800/1800_4.txt\n",
            "\n",
            "file name: 1800_1.txt\n",
            "cleaned text and save to -> ./dd2417-dating-historical-texts/Datasets/cleaned_data/1800/1800_1.txt\n",
            "\n",
            "file name: 1800_6.txt\n",
            "cleaned text and save to -> ./dd2417-dating-historical-texts/Datasets/cleaned_data/1800/1800_6.txt\n",
            "\n",
            "preprocess text\n",
            "directory year: 1810\n",
            "file name: 1810_4.txt\n",
            "cleaned text and save to -> ./dd2417-dating-historical-texts/Datasets/cleaned_data/1810/1810_4.txt\n",
            "\n",
            "file name: 1810_5.txt\n",
            "cleaned text and save to -> ./dd2417-dating-historical-texts/Datasets/cleaned_data/1810/1810_5.txt\n",
            "\n",
            "file name: 1810_2.txt\n",
            "cleaned text and save to -> ./dd2417-dating-historical-texts/Datasets/cleaned_data/1810/1810_2.txt\n",
            "\n",
            "file name: 1810_1.txt\n",
            "cleaned text and save to -> ./dd2417-dating-historical-texts/Datasets/cleaned_data/1810/1810_1.txt\n",
            "\n",
            "file name: 1810_3.txt\n",
            "cleaned text and save to -> ./dd2417-dating-historical-texts/Datasets/cleaned_data/1810/1810_3.txt\n",
            "\n",
            "preprocess text\n",
            "directory year: 1820\n",
            "file name: 1820_2.txt\n",
            "cleaned text and save to -> ./dd2417-dating-historical-texts/Datasets/cleaned_data/1820/1820_2.txt\n",
            "\n",
            "file name: 1820_4.txt\n",
            "cleaned text and save to -> ./dd2417-dating-historical-texts/Datasets/cleaned_data/1820/1820_4.txt\n",
            "\n",
            "file name: 1820_1.txt\n",
            "cleaned text and save to -> ./dd2417-dating-historical-texts/Datasets/cleaned_data/1820/1820_1.txt\n",
            "\n",
            "file name: 1820_3.txt\n",
            "cleaned text and save to -> ./dd2417-dating-historical-texts/Datasets/cleaned_data/1820/1820_3.txt\n",
            "\n",
            "file name: 1820_5.txt\n",
            "cleaned text and save to -> ./dd2417-dating-historical-texts/Datasets/cleaned_data/1820/1820_5.txt\n",
            "\n",
            "file name: 1820_6.txt\n",
            "cleaned text and save to -> ./dd2417-dating-historical-texts/Datasets/cleaned_data/1820/1820_6.txt\n",
            "\n",
            "preprocess text\n",
            "directory year: 1830\n",
            "file name: 1830_6.txt\n",
            "cleaned text and save to -> ./dd2417-dating-historical-texts/Datasets/cleaned_data/1830/1830_6.txt\n",
            "\n",
            "file name: 1830_2.txt\n",
            "cleaned text and save to -> ./dd2417-dating-historical-texts/Datasets/cleaned_data/1830/1830_2.txt\n",
            "\n",
            "file name: 1830_1.txt\n",
            "cleaned text and save to -> ./dd2417-dating-historical-texts/Datasets/cleaned_data/1830/1830_1.txt\n",
            "\n",
            "file name: 1830_5.txt\n",
            "cleaned text and save to -> ./dd2417-dating-historical-texts/Datasets/cleaned_data/1830/1830_5.txt\n",
            "\n",
            "file name: 1830_3.txt\n",
            "cleaned text and save to -> ./dd2417-dating-historical-texts/Datasets/cleaned_data/1830/1830_3.txt\n",
            "\n",
            "file name: 1830_4.txt\n",
            "cleaned text and save to -> ./dd2417-dating-historical-texts/Datasets/cleaned_data/1830/1830_4.txt\n",
            "\n",
            "preprocess text\n",
            "directory year: 1840\n",
            "file name: 1840_4.txt\n",
            "cleaned text and save to -> ./dd2417-dating-historical-texts/Datasets/cleaned_data/1840/1840_4.txt\n",
            "\n",
            "file name: 1840_5.txt\n",
            "cleaned text and save to -> ./dd2417-dating-historical-texts/Datasets/cleaned_data/1840/1840_5.txt\n",
            "\n",
            "file name: 1840_1.txt\n",
            "cleaned text and save to -> ./dd2417-dating-historical-texts/Datasets/cleaned_data/1840/1840_1.txt\n",
            "\n",
            "file name: 1840_6.txt\n",
            "cleaned text and save to -> ./dd2417-dating-historical-texts/Datasets/cleaned_data/1840/1840_6.txt\n",
            "\n",
            "file name: 1840_2.txt\n",
            "cleaned text and save to -> ./dd2417-dating-historical-texts/Datasets/cleaned_data/1840/1840_2.txt\n",
            "\n",
            "file name: 1840_3.txt\n",
            "cleaned text and save to -> ./dd2417-dating-historical-texts/Datasets/cleaned_data/1840/1840_3.txt\n",
            "\n",
            "preprocess text\n",
            "directory year: 1850\n",
            "file name: 1850_2.txt\n",
            "cleaned text and save to -> ./dd2417-dating-historical-texts/Datasets/cleaned_data/1850/1850_2.txt\n",
            "\n",
            "file name: 1850_6.txt\n",
            "cleaned text and save to -> ./dd2417-dating-historical-texts/Datasets/cleaned_data/1850/1850_6.txt\n",
            "\n",
            "file name: 1850_5.txt\n",
            "cleaned text and save to -> ./dd2417-dating-historical-texts/Datasets/cleaned_data/1850/1850_5.txt\n",
            "\n",
            "file name: 1850_1.txt\n",
            "cleaned text and save to -> ./dd2417-dating-historical-texts/Datasets/cleaned_data/1850/1850_1.txt\n",
            "\n",
            "file name: 1850_4.txt\n",
            "cleaned text and save to -> ./dd2417-dating-historical-texts/Datasets/cleaned_data/1850/1850_4.txt\n",
            "\n",
            "file name: 1850_3.txt\n",
            "cleaned text and save to -> ./dd2417-dating-historical-texts/Datasets/cleaned_data/1850/1850_3.txt\n",
            "\n",
            "preprocess text\n",
            "directory year: 1860\n",
            "file name: 1860_1.txt\n",
            "cleaned text and save to -> ./dd2417-dating-historical-texts/Datasets/cleaned_data/1860/1860_1.txt\n",
            "\n",
            "file name: 1860_4.txt\n",
            "cleaned text and save to -> ./dd2417-dating-historical-texts/Datasets/cleaned_data/1860/1860_4.txt\n",
            "\n",
            "file name: 1860_3.txt\n",
            "cleaned text and save to -> ./dd2417-dating-historical-texts/Datasets/cleaned_data/1860/1860_3.txt\n",
            "\n",
            "file name: 1860_2.txt\n",
            "cleaned text and save to -> ./dd2417-dating-historical-texts/Datasets/cleaned_data/1860/1860_2.txt\n",
            "\n",
            "file name: 1860_5.txt\n",
            "cleaned text and save to -> ./dd2417-dating-historical-texts/Datasets/cleaned_data/1860/1860_5.txt\n",
            "\n",
            "preprocess text\n",
            "directory year: 1870\n",
            "file name: 1870_1.txt\n",
            "cleaned text and save to -> ./dd2417-dating-historical-texts/Datasets/cleaned_data/1870/1870_1.txt\n",
            "\n",
            "file name: 1870_5.txt\n",
            "cleaned text and save to -> ./dd2417-dating-historical-texts/Datasets/cleaned_data/1870/1870_5.txt\n",
            "\n",
            "file name: 1870_3.txt\n",
            "cleaned text and save to -> ./dd2417-dating-historical-texts/Datasets/cleaned_data/1870/1870_3.txt\n",
            "\n",
            "file name: 1870_4.txt\n",
            "cleaned text and save to -> ./dd2417-dating-historical-texts/Datasets/cleaned_data/1870/1870_4.txt\n",
            "\n",
            "file name: 1870_2.txt\n",
            "cleaned text and save to -> ./dd2417-dating-historical-texts/Datasets/cleaned_data/1870/1870_2.txt\n",
            "\n",
            "preprocess text\n",
            "directory year: 1880\n",
            "file name: 1880_3.txt\n",
            "cleaned text and save to -> ./dd2417-dating-historical-texts/Datasets/cleaned_data/1880/1880_3.txt\n",
            "\n",
            "file name: 1880_1.txt\n",
            "cleaned text and save to -> ./dd2417-dating-historical-texts/Datasets/cleaned_data/1880/1880_1.txt\n",
            "\n",
            "file name: 1880_5.txt\n",
            "cleaned text and save to -> ./dd2417-dating-historical-texts/Datasets/cleaned_data/1880/1880_5.txt\n",
            "\n",
            "file name: 1880_2.txt\n",
            "cleaned text and save to -> ./dd2417-dating-historical-texts/Datasets/cleaned_data/1880/1880_2.txt\n",
            "\n",
            "file name: 1880_4.txt\n",
            "cleaned text and save to -> ./dd2417-dating-historical-texts/Datasets/cleaned_data/1880/1880_4.txt\n",
            "\n",
            "preprocess text\n",
            "directory year: 1890\n",
            "file name: 1890_1.txt\n",
            "cleaned text and save to -> ./dd2417-dating-historical-texts/Datasets/cleaned_data/1890/1890_1.txt\n",
            "\n",
            "file name: 1890_5.txt\n",
            "cleaned text and save to -> ./dd2417-dating-historical-texts/Datasets/cleaned_data/1890/1890_5.txt\n",
            "\n",
            "file name: 1890_3.txt\n",
            "cleaned text and save to -> ./dd2417-dating-historical-texts/Datasets/cleaned_data/1890/1890_3.txt\n",
            "\n",
            "file name: 1890_2.txt\n",
            "cleaned text and save to -> ./dd2417-dating-historical-texts/Datasets/cleaned_data/1890/1890_2.txt\n",
            "\n",
            "file name: 1890_4.txt\n",
            "cleaned text and save to -> ./dd2417-dating-historical-texts/Datasets/cleaned_data/1890/1890_4.txt\n",
            "\n"
          ]
        }
      ]
    }
  ]
}